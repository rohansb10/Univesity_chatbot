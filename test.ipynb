{
 "cells": [
  {
   "cell_type": "code",
   "execution_count": 1,
   "id": "ae99c08c",
   "metadata": {
    "ExecuteTime": {
     "end_time": "2024-05-01T08:03:20.640857Z",
     "start_time": "2024-05-01T08:02:58.195271Z"
    }
   },
   "outputs": [
    {
     "name": "stdout",
     "output_type": "stream",
     "text": [
      "WARNING:tensorflow:From C:\\Users\\Rohan\\anaconda3\\Lib\\site-packages\\keras\\src\\losses.py:2976: The name tf.losses.sparse_softmax_cross_entropy is deprecated. Please use tf.compat.v1.losses.sparse_softmax_cross_entropy instead.\n",
      "\n",
      "WARNING:tensorflow:From C:\\Users\\Rohan\\anaconda3\\Lib\\site-packages\\keras\\src\\backend.py:1398: The name tf.executing_eagerly_outside_functions is deprecated. Please use tf.compat.v1.executing_eagerly_outside_functions instead.\n",
      "\n",
      "Chatbot: Hello! How can I assist you today? (Type 'exit' to end)\n",
      "You: exit\n",
      "Chatbot: Goodbye! Have a great day!\n"
     ]
    }
   ],
   "source": [
    "import pandas as pd\n",
    "\n",
    "import nltk\n",
    "from nltk.stem import WordNetLemmatizer\n",
    "lemmatizer = WordNetLemmatizer()\n",
    "import json\n",
    "import pickle\n",
    "\n",
    "import warnings\n",
    "warnings.filterwarnings('ignore')\n",
    "from sklearn.preprocessing import LabelEncoder\n",
    "from tensorflow.keras.preprocessing.text import Tokenizer\n",
    "from tensorflow.keras.preprocessing.sequence import pad_sequences\n",
    "from sklearn.model_selection import train_test_split\n",
    "\n",
    "import numpy as np\n",
    "import tensorflow as tf\n",
    "from tensorflow.keras.models import Sequential\n",
    "from tensorflow.keras.layers import GlobalMaxPooling1D, Dense, Activation, Dropout, Embedding, Conv1D\n",
    "import random\n",
    "\n",
    "def load_json_file(filename):\n",
    "    with open(filename) as f:\n",
    "        file = json.load(f)\n",
    "    return file\n",
    "\n",
    "filename =r\"C:\\Users\\Rohan\\Pictures\\rohan\\langchine\\hh.json\"\n",
    "\n",
    "intents = load_json_file(filename) \n",
    "\n",
    "df = pd.DataFrame(columns=['Pattern', 'Tag'])\n",
    "\n",
    "def extract_json_info(json_file, df):\n",
    "    for intent in json_file['intents']:\n",
    "        for pattern in intent['patterns']:\n",
    "            sentence_tag = [pattern, intent['tag']]\n",
    "            df.loc[len(df.index)] = sentence_tag\n",
    "    return df\n",
    "\n",
    "df = extract_json_info(intents, df) \n",
    "\n",
    "tokenizer = Tokenizer()\n",
    "tokenizer.fit_on_texts(df['Pattern'])\n",
    "\n",
    "X = tokenizer.texts_to_sequences(df['Pattern'])\n",
    "\n",
    "max_sequence_length = max(len(seq) for seq in X)\n",
    "X_padded = pad_sequences(X, maxlen=max_sequence_length, padding='post')\n",
    "\n",
    "label_encoder = LabelEncoder()\n",
    "y = label_encoder.fit_transform(df['Tag'])\n",
    "\n",
    "from keras.models import load_model\n",
    "loaded_model = load_model('chatbot.h5')\n",
    "def preprocess_input_sentence(sentence, tokenizer, max_sequence_length):\n",
    "    input_sequence = tokenizer.texts_to_sequences([sentence])\n",
    "    padded_sequence = pad_sequences(input_sequence, maxlen=max_sequence_length, padding='post')\n",
    "    return padded_sequence\n",
    "\n",
    "def get_response(sentence, loaded_model, tokenizer, max_sequence_length, intents):\n",
    "    preprocessed_input = preprocess_input_sentence(sentence, tokenizer, max_sequence_length)\n",
    "    predicted_label = loaded_model.predict(preprocessed_input).argmax(axis=-1)\n",
    "    predicted_tag = label_encoder.inverse_transform(predicted_label)\n",
    "    for intent in intents[\"intents\"]:\n",
    "        if intent[\"tag\"] == predicted_tag[0]:\n",
    "            response = random.choice(intent[\"responses\"])\n",
    "            return response\n",
    "    \n",
    "    return \"I'm sorry, I didn't understand that.\"\n",
    "\n",
    "\n",
    "print(\"Chatbot: Hello! How can I assist you today? (Type 'exit' to end)\")\n",
    "while True:\n",
    "    sentence = input(\"You: \")\n",
    "    if sentence.lower() == 'exit':\n",
    "        print(\"Chatbot: Goodbye! Have a great day!\")\n",
    "        break\n",
    "    response = get_response(sentence, loaded_model, tokenizer, max_sequence_length, intents)\n",
    "    print(\"Chatbot:\", response)"
   ]
  }
 ],
 "metadata": {
  "kernelspec": {
   "display_name": "Python 3 (ipykernel)",
   "language": "python",
   "name": "python3"
  },
  "language_info": {
   "codemirror_mode": {
    "name": "ipython",
    "version": 3
   },
   "file_extension": ".py",
   "mimetype": "text/x-python",
   "name": "python",
   "nbconvert_exporter": "python",
   "pygments_lexer": "ipython3",
   "version": "3.12.1"
  },
  "toc": {
   "base_numbering": 1,
   "nav_menu": {},
   "number_sections": true,
   "sideBar": true,
   "skip_h1_title": false,
   "title_cell": "Table of Contents",
   "title_sidebar": "Contents",
   "toc_cell": false,
   "toc_position": {},
   "toc_section_display": true,
   "toc_window_display": false
  },
  "varInspector": {
   "cols": {
    "lenName": 16,
    "lenType": 16,
    "lenVar": 40
   },
   "kernels_config": {
    "python": {
     "delete_cmd_postfix": "",
     "delete_cmd_prefix": "del ",
     "library": "var_list.py",
     "varRefreshCmd": "print(var_dic_list())"
    },
    "r": {
     "delete_cmd_postfix": ") ",
     "delete_cmd_prefix": "rm(",
     "library": "var_list.r",
     "varRefreshCmd": "cat(var_dic_list()) "
    }
   },
   "types_to_exclude": [
    "module",
    "function",
    "builtin_function_or_method",
    "instance",
    "_Feature"
   ],
   "window_display": false
  }
 },
 "nbformat": 4,
 "nbformat_minor": 5
}
