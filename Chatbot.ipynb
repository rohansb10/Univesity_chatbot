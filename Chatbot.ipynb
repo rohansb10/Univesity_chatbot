{
 "cells": [
  {
   "cell_type": "code",
   "execution_count": 13,
   "id": "ae99c08c",
   "metadata": {
    "ExecuteTime": {
     "end_time": "2024-05-01T07:34:29.200108Z",
     "start_time": "2024-05-01T07:34:29.190265Z"
    }
   },
   "outputs": [],
   "source": [
    "import pandas as pd\n",
    "\n",
    "import nltk\n",
    "from nltk.stem import WordNetLemmatizer\n",
    "lemmatizer = WordNetLemmatizer()\n",
    "import json\n",
    "import pickle\n",
    "\n",
    "import warnings\n",
    "warnings.filterwarnings('ignore')\n",
    "\n",
    "from sklearn.preprocessing import LabelEncoder\n",
    "from tensorflow.keras.preprocessing.text import Tokenizer\n",
    "from tensorflow.keras.preprocessing.sequence import pad_sequences\n",
    "from sklearn.model_selection import train_test_split\n",
    "\n",
    "import numpy as np\n",
    "import tensorflow as tf\n",
    "from keras.models import Sequential\n",
    "from keras.layers import GlobalMaxPooling1D, Dense, Activation, Dropout, Embedding,Conv1D\n",
    "import random "
   ]
  },
  {
   "cell_type": "code",
   "execution_count": 14,
   "id": "daca379d",
   "metadata": {
    "ExecuteTime": {
     "end_time": "2024-05-01T07:34:32.078586Z",
     "start_time": "2024-05-01T07:34:32.062194Z"
    }
   },
   "outputs": [
    {
     "data": {
      "text/html": [
       "<div>\n",
       "<style scoped>\n",
       "    .dataframe tbody tr th:only-of-type {\n",
       "        vertical-align: middle;\n",
       "    }\n",
       "\n",
       "    .dataframe tbody tr th {\n",
       "        vertical-align: top;\n",
       "    }\n",
       "\n",
       "    .dataframe thead th {\n",
       "        text-align: right;\n",
       "    }\n",
       "</style>\n",
       "<table border=\"1\" class=\"dataframe\">\n",
       "  <thead>\n",
       "    <tr style=\"text-align: right;\">\n",
       "      <th></th>\n",
       "      <th>Pattern</th>\n",
       "      <th>Tag</th>\n",
       "    </tr>\n",
       "  </thead>\n",
       "  <tbody>\n",
       "  </tbody>\n",
       "</table>\n",
       "</div>"
      ],
      "text/plain": [
       "Empty DataFrame\n",
       "Columns: [Pattern, Tag]\n",
       "Index: []"
      ]
     },
     "execution_count": 14,
     "metadata": {},
     "output_type": "execute_result"
    }
   ],
   "source": [
    "def load_json_file(filename):\n",
    "    with open(filename) as f:\n",
    "        file = json.load(f)\n",
    "    return file\n",
    "\n",
    "filename =r\"C:\\Users\\Rohan\\Pictures\\rohan\\langchine\\hh.json\"\n",
    "\n",
    "intents = load_json_file(filename) \n",
    "\n",
    "df = pd.DataFrame(columns=['Pattern', 'Tag'])\n",
    "df.head()"
   ]
  },
  {
   "cell_type": "code",
   "execution_count": 15,
   "id": "79d8f794",
   "metadata": {
    "ExecuteTime": {
     "end_time": "2024-05-01T07:34:34.725065Z",
     "start_time": "2024-05-01T07:34:34.141600Z"
    }
   },
   "outputs": [
    {
     "data": {
      "text/html": [
       "<div>\n",
       "<style scoped>\n",
       "    .dataframe tbody tr th:only-of-type {\n",
       "        vertical-align: middle;\n",
       "    }\n",
       "\n",
       "    .dataframe tbody tr th {\n",
       "        vertical-align: top;\n",
       "    }\n",
       "\n",
       "    .dataframe thead th {\n",
       "        text-align: right;\n",
       "    }\n",
       "</style>\n",
       "<table border=\"1\" class=\"dataframe\">\n",
       "  <thead>\n",
       "    <tr style=\"text-align: right;\">\n",
       "      <th></th>\n",
       "      <th>Pattern</th>\n",
       "      <th>Tag</th>\n",
       "    </tr>\n",
       "  </thead>\n",
       "  <tbody>\n",
       "    <tr>\n",
       "      <th>0</th>\n",
       "      <td>Hi</td>\n",
       "      <td>greeting</td>\n",
       "    </tr>\n",
       "    <tr>\n",
       "      <th>1</th>\n",
       "      <td>How are you?</td>\n",
       "      <td>greeting</td>\n",
       "    </tr>\n",
       "    <tr>\n",
       "      <th>2</th>\n",
       "      <td>Is anyone there?</td>\n",
       "      <td>greeting</td>\n",
       "    </tr>\n",
       "  </tbody>\n",
       "</table>\n",
       "</div>"
      ],
      "text/plain": [
       "            Pattern       Tag\n",
       "0                Hi  greeting\n",
       "1      How are you?  greeting\n",
       "2  Is anyone there?  greeting"
      ]
     },
     "execution_count": 15,
     "metadata": {},
     "output_type": "execute_result"
    }
   ],
   "source": [
    "def extract_json_info(json_file, df):\n",
    "    # Iterate over each intent in the JSON file\n",
    "    for intent in json_file['intents']:\n",
    "        # Iterate over each pattern in the current intent\n",
    "        for pattern in intent['patterns']:\n",
    "            # Create a list containing the pattern and its associated tag\n",
    "            sentence_tag = [pattern, intent['tag']]\n",
    "            # Append the pattern and tag to the DataFrame\n",
    "            df.loc[len(df.index)] = sentence_tag\n",
    "     # Return the updated DataFrame            \n",
    "    return df\n",
    "\n",
    "df = extract_json_info(intents, df)\n",
    "df.head(3)"
   ]
  },
  {
   "cell_type": "code",
   "execution_count": 16,
   "id": "c01dbae8",
   "metadata": {
    "ExecuteTime": {
     "end_time": "2024-05-01T07:34:35.885126Z",
     "start_time": "2024-05-01T07:34:35.875108Z"
    }
   },
   "outputs": [
    {
     "data": {
      "text/plain": [
       "['greeting',\n",
       " 'goodbye',\n",
       " 'creator',\n",
       " 'name',\n",
       " 'hours',\n",
       " 'number',\n",
       " 'course',\n",
       " 'fees',\n",
       " 'location',\n",
       " 'hostel']"
      ]
     },
     "execution_count": 16,
     "metadata": {},
     "output_type": "execute_result"
    }
   ],
   "source": [
    "labels = df['Tag'].unique().tolist()\n",
    "labels = [s.strip() for s in labels]\n",
    "labels[:10]"
   ]
  },
  {
   "cell_type": "code",
   "execution_count": 17,
   "id": "a6b9bdf7",
   "metadata": {
    "ExecuteTime": {
     "end_time": "2024-05-01T07:34:36.729175Z",
     "start_time": "2024-05-01T07:34:36.720906Z"
    }
   },
   "outputs": [
    {
     "data": {
      "text/plain": [
       "(405, 2)"
      ]
     },
     "execution_count": 17,
     "metadata": {},
     "output_type": "execute_result"
    }
   ],
   "source": [
    "df.shape"
   ]
  },
  {
   "cell_type": "code",
   "execution_count": 18,
   "id": "ce532ae3",
   "metadata": {
    "ExecuteTime": {
     "end_time": "2024-05-01T07:34:37.420639Z",
     "start_time": "2024-05-01T07:34:37.406021Z"
    }
   },
   "outputs": [
    {
     "name": "stdout",
     "output_type": "stream",
     "text": [
      "<class 'pandas.core.frame.DataFrame'>\n",
      "Index: 405 entries, 0 to 404\n",
      "Data columns (total 2 columns):\n",
      " #   Column   Non-Null Count  Dtype \n",
      "---  ------   --------------  ----- \n",
      " 0   Pattern  405 non-null    object\n",
      " 1   Tag      405 non-null    object\n",
      "dtypes: object(2)\n",
      "memory usage: 9.5+ KB\n"
     ]
    }
   ],
   "source": [
    "df.info()"
   ]
  },
  {
   "cell_type": "code",
   "execution_count": 31,
   "id": "4eee8aec",
   "metadata": {
    "ExecuteTime": {
     "end_time": "2024-05-01T07:44:22.419887Z",
     "start_time": "2024-05-01T07:44:22.388016Z"
    }
   },
   "outputs": [
    {
     "data": {
      "text/plain": [
       "array([[161,   0,   0, ...,   0,   0,   0],\n",
       "       [ 12,   9,   5, ...,   0,   0,   0],\n",
       "       [  1, 162,  24, ...,   0,   0,   0],\n",
       "       ...,\n",
       "       [ 17,   0,   0, ...,   0,   0,   0],\n",
       "       [ 17,  13,   0, ...,   0,   0,   0],\n",
       "       [ 19,   1,   4, ...,   0,   0,   0]])"
      ]
     },
     "execution_count": 31,
     "metadata": {},
     "output_type": "execute_result"
    }
   ],
   "source": [
    "tokenizer = Tokenizer()\n",
    "tokenizer.fit_on_texts(df['Pattern'])\n",
    "\n",
    "# Convert text patterns to numerical sequences\n",
    "X = tokenizer.texts_to_sequences(df['Pattern'])\n",
    "\n",
    "# Pad sequences to ensure uniform length\n",
    "max_sequence_length = max(len(seq) for seq in X)\n",
    "X_padded = pad_sequences(X, maxlen=max_sequence_length, padding='post')\n",
    "\n",
    "# Convert tags to numerical labels\n",
    "label_encoder = LabelEncoder()\n",
    "y = label_encoder.fit_transform(df['Tag'])\n",
    "X_padded"
   ]
  },
  {
   "cell_type": "code",
   "execution_count": 32,
   "id": "225f51b4",
   "metadata": {
    "ExecuteTime": {
     "end_time": "2024-05-01T07:44:22.835555Z",
     "start_time": "2024-05-01T07:44:22.827125Z"
    }
   },
   "outputs": [
    {
     "data": {
      "text/plain": [
       "12"
      ]
     },
     "execution_count": 32,
     "metadata": {},
     "output_type": "execute_result"
    }
   ],
   "source": [
    "max_sequence_length "
   ]
  },
  {
   "cell_type": "code",
   "execution_count": 33,
   "id": "622f1c65",
   "metadata": {
    "ExecuteTime": {
     "end_time": "2024-05-01T07:44:23.204974Z",
     "start_time": "2024-05-01T07:44:23.198546Z"
    }
   },
   "outputs": [
    {
     "name": "stdout",
     "output_type": "stream",
     "text": [
      "(405, 12)\n",
      "(405,)\n"
     ]
    }
   ],
   "source": [
    "print(X_padded.shape)\n",
    "print(y.shape)"
   ]
  },
  {
   "cell_type": "code",
   "execution_count": 34,
   "id": "2a902ec1",
   "metadata": {
    "ExecuteTime": {
     "end_time": "2024-05-01T07:44:51.211056Z",
     "start_time": "2024-05-01T07:44:23.830267Z"
    }
   },
   "outputs": [
    {
     "name": "stdout",
     "output_type": "stream",
     "text": [
      "Epoch 1/100\n",
      "11/11 [==============================] - 2s 52ms/step - loss: 3.6236 - accuracy: 0.0370 - val_loss: 3.5922 - val_accuracy: 0.0617\n",
      "Epoch 2/100\n",
      "11/11 [==============================] - 0s 19ms/step - loss: 3.5686 - accuracy: 0.0617 - val_loss: 3.5542 - val_accuracy: 0.0617\n",
      "Epoch 3/100\n",
      "11/11 [==============================] - 0s 16ms/step - loss: 3.5428 - accuracy: 0.0741 - val_loss: 3.5217 - val_accuracy: 0.1111\n",
      "Epoch 4/100\n",
      "11/11 [==============================] - 0s 22ms/step - loss: 3.5065 - accuracy: 0.1080 - val_loss: 3.4964 - val_accuracy: 0.0864\n",
      "Epoch 5/100\n",
      "11/11 [==============================] - 0s 21ms/step - loss: 3.4556 - accuracy: 0.1080 - val_loss: 3.4581 - val_accuracy: 0.0864\n",
      "Epoch 6/100\n",
      "11/11 [==============================] - 0s 27ms/step - loss: 3.3765 - accuracy: 0.1296 - val_loss: 3.4159 - val_accuracy: 0.1481\n",
      "Epoch 7/100\n",
      "11/11 [==============================] - 0s 23ms/step - loss: 3.2741 - accuracy: 0.1667 - val_loss: 3.3479 - val_accuracy: 0.1481\n",
      "Epoch 8/100\n",
      "11/11 [==============================] - 0s 15ms/step - loss: 3.1670 - accuracy: 0.1975 - val_loss: 3.2608 - val_accuracy: 0.1605\n",
      "Epoch 9/100\n",
      "11/11 [==============================] - 0s 21ms/step - loss: 2.9690 - accuracy: 0.2284 - val_loss: 3.1431 - val_accuracy: 0.1728\n",
      "Epoch 10/100\n",
      "11/11 [==============================] - 0s 15ms/step - loss: 2.7899 - accuracy: 0.2593 - val_loss: 3.0068 - val_accuracy: 0.1975\n",
      "Epoch 11/100\n",
      "11/11 [==============================] - 0s 21ms/step - loss: 2.6096 - accuracy: 0.3179 - val_loss: 2.8829 - val_accuracy: 0.2346\n",
      "Epoch 12/100\n",
      "11/11 [==============================] - 0s 29ms/step - loss: 2.4471 - accuracy: 0.3426 - val_loss: 2.7696 - val_accuracy: 0.2469\n",
      "Epoch 13/100\n",
      "11/11 [==============================] - 0s 24ms/step - loss: 2.3206 - accuracy: 0.3951 - val_loss: 2.6726 - val_accuracy: 0.2469\n",
      "Epoch 14/100\n",
      "11/11 [==============================] - 0s 16ms/step - loss: 2.1782 - accuracy: 0.4105 - val_loss: 2.5663 - val_accuracy: 0.3086\n",
      "Epoch 15/100\n",
      "11/11 [==============================] - 0s 14ms/step - loss: 2.0020 - accuracy: 0.4877 - val_loss: 2.4381 - val_accuracy: 0.3827\n",
      "Epoch 16/100\n",
      "11/11 [==============================] - 0s 17ms/step - loss: 1.8682 - accuracy: 0.5031 - val_loss: 2.3281 - val_accuracy: 0.3827\n",
      "Epoch 17/100\n",
      "11/11 [==============================] - 0s 36ms/step - loss: 1.7717 - accuracy: 0.5340 - val_loss: 2.2157 - val_accuracy: 0.4074\n",
      "Epoch 18/100\n",
      "11/11 [==============================] - 0s 34ms/step - loss: 1.6057 - accuracy: 0.6019 - val_loss: 2.0965 - val_accuracy: 0.4321\n",
      "Epoch 19/100\n",
      "11/11 [==============================] - 0s 16ms/step - loss: 1.4475 - accuracy: 0.6389 - val_loss: 1.9856 - val_accuracy: 0.5185\n",
      "Epoch 20/100\n",
      "11/11 [==============================] - 0s 23ms/step - loss: 1.3735 - accuracy: 0.6481 - val_loss: 1.8642 - val_accuracy: 0.5556\n",
      "Epoch 21/100\n",
      "11/11 [==============================] - 0s 15ms/step - loss: 1.2440 - accuracy: 0.6852 - val_loss: 1.7721 - val_accuracy: 0.5556\n",
      "Epoch 22/100\n",
      "11/11 [==============================] - 0s 14ms/step - loss: 1.1414 - accuracy: 0.7222 - val_loss: 1.7027 - val_accuracy: 0.5802\n",
      "Epoch 23/100\n",
      "11/11 [==============================] - 0s 31ms/step - loss: 0.9865 - accuracy: 0.7685 - val_loss: 1.6362 - val_accuracy: 0.5926\n",
      "Epoch 24/100\n",
      "11/11 [==============================] - 0s 27ms/step - loss: 0.9830 - accuracy: 0.7562 - val_loss: 1.5807 - val_accuracy: 0.5926\n",
      "Epoch 25/100\n",
      "11/11 [==============================] - 0s 21ms/step - loss: 0.7807 - accuracy: 0.8519 - val_loss: 1.5286 - val_accuracy: 0.6049\n",
      "Epoch 26/100\n",
      "11/11 [==============================] - 0s 16ms/step - loss: 0.7975 - accuracy: 0.8302 - val_loss: 1.4983 - val_accuracy: 0.6296\n",
      "Epoch 27/100\n",
      "11/11 [==============================] - 0s 31ms/step - loss: 0.7300 - accuracy: 0.8179 - val_loss: 1.4456 - val_accuracy: 0.6296\n",
      "Epoch 28/100\n",
      "11/11 [==============================] - 0s 31ms/step - loss: 0.6538 - accuracy: 0.8611 - val_loss: 1.3653 - val_accuracy: 0.6173\n",
      "Epoch 29/100\n",
      "11/11 [==============================] - 0s 27ms/step - loss: 0.6129 - accuracy: 0.8395 - val_loss: 1.3478 - val_accuracy: 0.6420\n",
      "Epoch 30/100\n",
      "11/11 [==============================] - 0s 15ms/step - loss: 0.5290 - accuracy: 0.8920 - val_loss: 1.2711 - val_accuracy: 0.6790\n",
      "Epoch 31/100\n",
      "11/11 [==============================] - 0s 33ms/step - loss: 0.4499 - accuracy: 0.9074 - val_loss: 1.2655 - val_accuracy: 0.6914\n",
      "Epoch 32/100\n",
      "11/11 [==============================] - 0s 15ms/step - loss: 0.4731 - accuracy: 0.8858 - val_loss: 1.2514 - val_accuracy: 0.6790\n",
      "Epoch 33/100\n",
      "11/11 [==============================] - 0s 15ms/step - loss: 0.3990 - accuracy: 0.9105 - val_loss: 1.2523 - val_accuracy: 0.7037\n",
      "Epoch 34/100\n",
      "11/11 [==============================] - 0s 22ms/step - loss: 0.4085 - accuracy: 0.9105 - val_loss: 1.2106 - val_accuracy: 0.7160\n",
      "Epoch 35/100\n",
      "11/11 [==============================] - 0s 15ms/step - loss: 0.3714 - accuracy: 0.9228 - val_loss: 1.1841 - val_accuracy: 0.7037\n",
      "Epoch 36/100\n",
      "11/11 [==============================] - 0s 26ms/step - loss: 0.3384 - accuracy: 0.9321 - val_loss: 1.1576 - val_accuracy: 0.7160\n",
      "Epoch 37/100\n",
      "11/11 [==============================] - 0s 32ms/step - loss: 0.3498 - accuracy: 0.9228 - val_loss: 1.1798 - val_accuracy: 0.7284\n",
      "Epoch 38/100\n",
      "11/11 [==============================] - 0s 26ms/step - loss: 0.2885 - accuracy: 0.9290 - val_loss: 1.1883 - val_accuracy: 0.6914\n",
      "Epoch 39/100\n",
      "11/11 [==============================] - 0s 15ms/step - loss: 0.2598 - accuracy: 0.9537 - val_loss: 1.1199 - val_accuracy: 0.7160\n",
      "Epoch 40/100\n",
      "11/11 [==============================] - 0s 27ms/step - loss: 0.2687 - accuracy: 0.9537 - val_loss: 1.1407 - val_accuracy: 0.6914\n",
      "Epoch 41/100\n",
      "11/11 [==============================] - 0s 22ms/step - loss: 0.2506 - accuracy: 0.9475 - val_loss: 1.0923 - val_accuracy: 0.6914\n",
      "Epoch 42/100\n",
      "11/11 [==============================] - 0s 18ms/step - loss: 0.2092 - accuracy: 0.9630 - val_loss: 1.0682 - val_accuracy: 0.7037\n",
      "Epoch 43/100\n",
      "11/11 [==============================] - 0s 15ms/step - loss: 0.1758 - accuracy: 0.9722 - val_loss: 1.0822 - val_accuracy: 0.7037\n",
      "Epoch 44/100\n",
      "11/11 [==============================] - 0s 28ms/step - loss: 0.1934 - accuracy: 0.9630 - val_loss: 1.1125 - val_accuracy: 0.7037\n",
      "Epoch 45/100\n",
      "11/11 [==============================] - 0s 15ms/step - loss: 0.1745 - accuracy: 0.9599 - val_loss: 1.1699 - val_accuracy: 0.6790\n",
      "Epoch 46/100\n",
      "11/11 [==============================] - 0s 14ms/step - loss: 0.1618 - accuracy: 0.9753 - val_loss: 1.1493 - val_accuracy: 0.7407\n",
      "Epoch 47/100\n",
      "11/11 [==============================] - 0s 23ms/step - loss: 0.2092 - accuracy: 0.9537 - val_loss: 1.1445 - val_accuracy: 0.7284\n",
      "Epoch 48/100\n",
      "11/11 [==============================] - 0s 27ms/step - loss: 0.1641 - accuracy: 0.9660 - val_loss: 1.1545 - val_accuracy: 0.7284\n",
      "Epoch 49/100\n",
      "11/11 [==============================] - 0s 25ms/step - loss: 0.1505 - accuracy: 0.9660 - val_loss: 1.1465 - val_accuracy: 0.7160\n",
      "Epoch 50/100\n",
      "11/11 [==============================] - 0s 25ms/step - loss: 0.1481 - accuracy: 0.9630 - val_loss: 1.1625 - val_accuracy: 0.6914\n",
      "Epoch 51/100\n",
      "11/11 [==============================] - 0s 36ms/step - loss: 0.1541 - accuracy: 0.9660 - val_loss: 1.1134 - val_accuracy: 0.7284\n",
      "Epoch 52/100\n",
      "11/11 [==============================] - 0s 14ms/step - loss: 0.1245 - accuracy: 0.9846 - val_loss: 1.1142 - val_accuracy: 0.7284\n",
      "Epoch 53/100\n",
      "11/11 [==============================] - 0s 18ms/step - loss: 0.1200 - accuracy: 0.9691 - val_loss: 1.1460 - val_accuracy: 0.7284\n",
      "Epoch 54/100\n",
      "11/11 [==============================] - 0s 21ms/step - loss: 0.1332 - accuracy: 0.9691 - val_loss: 1.1338 - val_accuracy: 0.7284\n",
      "Epoch 55/100\n",
      "11/11 [==============================] - 0s 28ms/step - loss: 0.1336 - accuracy: 0.9660 - val_loss: 1.1180 - val_accuracy: 0.7284\n",
      "Epoch 56/100\n",
      "11/11 [==============================] - 0s 15ms/step - loss: 0.1176 - accuracy: 0.9753 - val_loss: 1.1787 - val_accuracy: 0.7407\n",
      "Epoch 57/100\n",
      "11/11 [==============================] - 0s 29ms/step - loss: 0.1362 - accuracy: 0.9660 - val_loss: 1.1980 - val_accuracy: 0.7284\n",
      "Epoch 58/100\n"
     ]
    },
    {
     "name": "stdout",
     "output_type": "stream",
     "text": [
      "11/11 [==============================] - 0s 26ms/step - loss: 0.1130 - accuracy: 0.9784 - val_loss: 1.1183 - val_accuracy: 0.7531\n",
      "Epoch 59/100\n",
      "11/11 [==============================] - 0s 15ms/step - loss: 0.1498 - accuracy: 0.9660 - val_loss: 1.1119 - val_accuracy: 0.7407\n",
      "Epoch 60/100\n",
      "11/11 [==============================] - 0s 27ms/step - loss: 0.0972 - accuracy: 0.9784 - val_loss: 1.1576 - val_accuracy: 0.7284\n",
      "Epoch 61/100\n",
      "11/11 [==============================] - 0s 31ms/step - loss: 0.1011 - accuracy: 0.9753 - val_loss: 1.1043 - val_accuracy: 0.7407\n",
      "Epoch 62/100\n",
      "11/11 [==============================] - 0s 30ms/step - loss: 0.0959 - accuracy: 0.9846 - val_loss: 1.1143 - val_accuracy: 0.7284\n",
      "Epoch 63/100\n",
      "11/11 [==============================] - 0s 27ms/step - loss: 0.1001 - accuracy: 0.9846 - val_loss: 1.1230 - val_accuracy: 0.7160\n",
      "Epoch 64/100\n",
      "11/11 [==============================] - 0s 31ms/step - loss: 0.0820 - accuracy: 0.9846 - val_loss: 1.0860 - val_accuracy: 0.7037\n",
      "Epoch 65/100\n",
      "11/11 [==============================] - 0s 27ms/step - loss: 0.1137 - accuracy: 0.9691 - val_loss: 1.0751 - val_accuracy: 0.7160\n",
      "Epoch 66/100\n",
      "11/11 [==============================] - 0s 28ms/step - loss: 0.0868 - accuracy: 0.9846 - val_loss: 1.1001 - val_accuracy: 0.7037\n",
      "Epoch 67/100\n",
      "11/11 [==============================] - 0s 32ms/step - loss: 0.1180 - accuracy: 0.9599 - val_loss: 1.1327 - val_accuracy: 0.7160\n",
      "Epoch 68/100\n",
      "11/11 [==============================] - 0s 20ms/step - loss: 0.0651 - accuracy: 0.9846 - val_loss: 1.1156 - val_accuracy: 0.6914\n",
      "Epoch 69/100\n",
      "11/11 [==============================] - 0s 26ms/step - loss: 0.1192 - accuracy: 0.9722 - val_loss: 1.1258 - val_accuracy: 0.7284\n",
      "Epoch 70/100\n",
      "11/11 [==============================] - 0s 31ms/step - loss: 0.0651 - accuracy: 0.9938 - val_loss: 1.0879 - val_accuracy: 0.7037\n",
      "Epoch 71/100\n",
      "11/11 [==============================] - 0s 15ms/step - loss: 0.0758 - accuracy: 0.9846 - val_loss: 1.1261 - val_accuracy: 0.7284\n",
      "Epoch 72/100\n",
      "11/11 [==============================] - 0s 26ms/step - loss: 0.0613 - accuracy: 0.9938 - val_loss: 1.1745 - val_accuracy: 0.7160\n",
      "Epoch 73/100\n",
      "11/11 [==============================] - 0s 24ms/step - loss: 0.0814 - accuracy: 0.9846 - val_loss: 1.1158 - val_accuracy: 0.7284\n",
      "Epoch 74/100\n",
      "11/11 [==============================] - 0s 31ms/step - loss: 0.0703 - accuracy: 0.9877 - val_loss: 1.0972 - val_accuracy: 0.6914\n",
      "Epoch 75/100\n",
      "11/11 [==============================] - 0s 21ms/step - loss: 0.0742 - accuracy: 0.9877 - val_loss: 1.0883 - val_accuracy: 0.7037\n",
      "Epoch 76/100\n",
      "11/11 [==============================] - 0s 23ms/step - loss: 0.0738 - accuracy: 0.9815 - val_loss: 1.1112 - val_accuracy: 0.7160\n",
      "Epoch 77/100\n",
      "11/11 [==============================] - 0s 25ms/step - loss: 0.0695 - accuracy: 0.9846 - val_loss: 1.1239 - val_accuracy: 0.7160\n",
      "Epoch 78/100\n",
      "11/11 [==============================] - 0s 27ms/step - loss: 0.0495 - accuracy: 0.9877 - val_loss: 1.0808 - val_accuracy: 0.7160\n",
      "Epoch 79/100\n",
      "11/11 [==============================] - 0s 27ms/step - loss: 0.0584 - accuracy: 0.9907 - val_loss: 1.0602 - val_accuracy: 0.7284\n",
      "Epoch 80/100\n",
      "11/11 [==============================] - 0s 21ms/step - loss: 0.0592 - accuracy: 0.9846 - val_loss: 1.0497 - val_accuracy: 0.7407\n",
      "Epoch 81/100\n",
      "11/11 [==============================] - 0s 14ms/step - loss: 0.0711 - accuracy: 0.9846 - val_loss: 1.0746 - val_accuracy: 0.7407\n",
      "Epoch 82/100\n",
      "11/11 [==============================] - 0s 28ms/step - loss: 0.0385 - accuracy: 0.9969 - val_loss: 1.0684 - val_accuracy: 0.7531\n",
      "Epoch 83/100\n",
      "11/11 [==============================] - 0s 24ms/step - loss: 0.0737 - accuracy: 0.9815 - val_loss: 1.0974 - val_accuracy: 0.7407\n",
      "Epoch 84/100\n",
      "11/11 [==============================] - 0s 31ms/step - loss: 0.0716 - accuracy: 0.9846 - val_loss: 1.0974 - val_accuracy: 0.7531\n",
      "Epoch 85/100\n",
      "11/11 [==============================] - 0s 15ms/step - loss: 0.0485 - accuracy: 0.9938 - val_loss: 1.0923 - val_accuracy: 0.7531\n",
      "Epoch 86/100\n",
      "11/11 [==============================] - 0s 26ms/step - loss: 0.0809 - accuracy: 0.9784 - val_loss: 1.0971 - val_accuracy: 0.7531\n",
      "Epoch 87/100\n",
      "11/11 [==============================] - 0s 18ms/step - loss: 0.0736 - accuracy: 0.9815 - val_loss: 1.0650 - val_accuracy: 0.7407\n",
      "Epoch 88/100\n",
      "11/11 [==============================] - 0s 27ms/step - loss: 0.0668 - accuracy: 0.9846 - val_loss: 1.0972 - val_accuracy: 0.7407\n",
      "Epoch 89/100\n",
      "11/11 [==============================] - 0s 25ms/step - loss: 0.0472 - accuracy: 0.9969 - val_loss: 1.0984 - val_accuracy: 0.7407\n",
      "Epoch 90/100\n",
      "11/11 [==============================] - 0s 30ms/step - loss: 0.0539 - accuracy: 0.9938 - val_loss: 1.1118 - val_accuracy: 0.7284\n",
      "Epoch 91/100\n",
      "11/11 [==============================] - 0s 14ms/step - loss: 0.0488 - accuracy: 0.9907 - val_loss: 1.1542 - val_accuracy: 0.7531\n",
      "Epoch 92/100\n",
      "11/11 [==============================] - 0s 22ms/step - loss: 0.0487 - accuracy: 0.9877 - val_loss: 1.1679 - val_accuracy: 0.7778\n",
      "Epoch 93/100\n",
      "11/11 [==============================] - 0s 31ms/step - loss: 0.0755 - accuracy: 0.9784 - val_loss: 1.1192 - val_accuracy: 0.7407\n",
      "Epoch 94/100\n",
      "11/11 [==============================] - 0s 42ms/step - loss: 0.0506 - accuracy: 0.9938 - val_loss: 1.0890 - val_accuracy: 0.7531\n",
      "Epoch 95/100\n",
      "11/11 [==============================] - 0s 24ms/step - loss: 0.0554 - accuracy: 0.9846 - val_loss: 1.1003 - val_accuracy: 0.7407\n",
      "Epoch 96/100\n",
      "11/11 [==============================] - 0s 14ms/step - loss: 0.0757 - accuracy: 0.9753 - val_loss: 1.2979 - val_accuracy: 0.7654\n",
      "Epoch 97/100\n",
      "11/11 [==============================] - 0s 27ms/step - loss: 0.0832 - accuracy: 0.9753 - val_loss: 1.1736 - val_accuracy: 0.7284\n",
      "Epoch 98/100\n",
      "11/11 [==============================] - 0s 24ms/step - loss: 0.0384 - accuracy: 0.9969 - val_loss: 1.0712 - val_accuracy: 0.7284\n",
      "Epoch 99/100\n",
      "11/11 [==============================] - 0s 14ms/step - loss: 0.0782 - accuracy: 0.9784 - val_loss: 1.0747 - val_accuracy: 0.7284\n",
      "Epoch 100/100\n",
      "11/11 [==============================] - 0s 21ms/step - loss: 0.0410 - accuracy: 0.9938 - val_loss: 1.1038 - val_accuracy: 0.7284\n"
     ]
    }
   ],
   "source": [
    "X_train, X_val, y_train, y_val = train_test_split(X_padded, y, test_size=0.2, random_state=42)\n",
    "# Define the CNN model\n",
    "model = Sequential([\n",
    "    Embedding(input_dim=len(tokenizer.word_index) + 1, output_dim=100),\n",
    "    Conv1D(filters=128, kernel_size=5, activation='relu'),\n",
    "    GlobalMaxPooling1D(),\n",
    "    Dense(64, activation='relu'),\n",
    "    Dropout(0.5),\n",
    "    Dense(len(label_encoder.classes_), activation='softmax')\n",
    "])\n",
    "\n",
    "# Compile the model\n",
    "model.compile(loss='sparse_categorical_crossentropy', optimizer='adam', metrics=['accuracy'])\n",
    "# Train the model\n",
    "history = model.fit(X_train, y_train, validation_data=(X_val, y_val), epochs=100, batch_size=32)"
   ]
  },
  {
   "cell_type": "code",
   "execution_count": 11,
   "id": "0ec11e76",
   "metadata": {
    "ExecuteTime": {
     "end_time": "2024-05-01T07:17:23.839427Z",
     "start_time": "2024-05-01T07:17:23.662500Z"
    }
   },
   "outputs": [
    {
     "name": "stdout",
     "output_type": "stream",
     "text": [
      "6/6 [==============================] - 0s 5ms/step - loss: 0.2781 - accuracy: 0.9444\n",
      "Validation Accuracy: 0.9444\n"
     ]
    }
   ],
   "source": [
    "val_loss, val_accuracy = model.evaluate(X_val, y_val)\n",
    "print(f'Validation Accuracy: {val_accuracy:.4f}')"
   ]
  },
  {
   "cell_type": "code",
   "execution_count": 12,
   "id": "361210bb",
   "metadata": {
    "ExecuteTime": {
     "end_time": "2024-05-01T07:17:24.701099Z",
     "start_time": "2024-05-01T07:17:24.606703Z"
    }
   },
   "outputs": [],
   "source": [
    "model.save('chatbot.h5')"
   ]
  },
  {
   "cell_type": "code",
   "execution_count": 12,
   "id": "5a58362f",
   "metadata": {
    "ExecuteTime": {
     "end_time": "2024-05-01T07:34:26.953509Z",
     "start_time": "2024-05-01T07:28:50.953506Z"
    }
   },
   "outputs": [
    {
     "name": "stdout",
     "output_type": "stream",
     "text": [
      "Chatbot: Hello! How can I assist you today? (Type 'exit' to end)\n",
      "You: hii\n",
      "1/1 [==============================] - 0s 217ms/step\n",
      "Chatbot: Hi there, how can I help?\n",
      "You: how to helps me\n",
      "1/1 [==============================] - 0s 44ms/step\n",
      "Chatbot: Sad to see you go :(\n",
      "You: which is best products\n",
      "1/1 [==============================] - 0s 46ms/step\n",
      "Chatbot: To know about placement visit <a target=\"_blank\" href=\"PLACEMENT INFORMATION LINK FROM YOUR UNIVERSITY WEBSITE IF THEY HAVE\">here</a>\n"
     ]
    },
    {
     "ename": "KeyboardInterrupt",
     "evalue": "Interrupted by user",
     "output_type": "error",
     "traceback": [
      "\u001b[1;31m---------------------------------------------------------------------------\u001b[0m",
      "\u001b[1;31mKeyboardInterrupt\u001b[0m                         Traceback (most recent call last)",
      "Cell \u001b[1;32mIn[12], line 33\u001b[0m\n\u001b[0;32m     30\u001b[0m \u001b[38;5;28mprint\u001b[39m(\u001b[38;5;124m\"\u001b[39m\u001b[38;5;124mChatbot: Hello! How can I assist you today? (Type \u001b[39m\u001b[38;5;124m'\u001b[39m\u001b[38;5;124mexit\u001b[39m\u001b[38;5;124m'\u001b[39m\u001b[38;5;124m to end)\u001b[39m\u001b[38;5;124m\"\u001b[39m)\n\u001b[0;32m     31\u001b[0m \u001b[38;5;28;01mwhile\u001b[39;00m \u001b[38;5;28;01mTrue\u001b[39;00m:\n\u001b[0;32m     32\u001b[0m     \u001b[38;5;66;03m# Get user input\u001b[39;00m\n\u001b[1;32m---> 33\u001b[0m     sentence \u001b[38;5;241m=\u001b[39m \u001b[38;5;28minput\u001b[39m(\u001b[38;5;124m\"\u001b[39m\u001b[38;5;124mYou: \u001b[39m\u001b[38;5;124m\"\u001b[39m)\n\u001b[0;32m     34\u001b[0m     \u001b[38;5;66;03m# Check if the user wants to exit\u001b[39;00m\n\u001b[0;32m     35\u001b[0m     \u001b[38;5;28;01mif\u001b[39;00m sentence\u001b[38;5;241m.\u001b[39mlower() \u001b[38;5;241m==\u001b[39m \u001b[38;5;124m'\u001b[39m\u001b[38;5;124mexit\u001b[39m\u001b[38;5;124m'\u001b[39m:\n",
      "File \u001b[1;32m~\\anaconda3\\Lib\\site-packages\\ipykernel\\kernelbase.py:1202\u001b[0m, in \u001b[0;36mKernel.raw_input\u001b[1;34m(self, prompt)\u001b[0m\n\u001b[0;32m   1200\u001b[0m     msg \u001b[38;5;241m=\u001b[39m \u001b[38;5;124m\"\u001b[39m\u001b[38;5;124mraw_input was called, but this frontend does not support input requests.\u001b[39m\u001b[38;5;124m\"\u001b[39m\n\u001b[0;32m   1201\u001b[0m     \u001b[38;5;28;01mraise\u001b[39;00m StdinNotImplementedError(msg)\n\u001b[1;32m-> 1202\u001b[0m \u001b[38;5;28;01mreturn\u001b[39;00m \u001b[38;5;28mself\u001b[39m\u001b[38;5;241m.\u001b[39m_input_request(\n\u001b[0;32m   1203\u001b[0m     \u001b[38;5;28mstr\u001b[39m(prompt),\n\u001b[0;32m   1204\u001b[0m     \u001b[38;5;28mself\u001b[39m\u001b[38;5;241m.\u001b[39m_parent_ident[\u001b[38;5;124m\"\u001b[39m\u001b[38;5;124mshell\u001b[39m\u001b[38;5;124m\"\u001b[39m],\n\u001b[0;32m   1205\u001b[0m     \u001b[38;5;28mself\u001b[39m\u001b[38;5;241m.\u001b[39mget_parent(\u001b[38;5;124m\"\u001b[39m\u001b[38;5;124mshell\u001b[39m\u001b[38;5;124m\"\u001b[39m),\n\u001b[0;32m   1206\u001b[0m     password\u001b[38;5;241m=\u001b[39m\u001b[38;5;28;01mFalse\u001b[39;00m,\n\u001b[0;32m   1207\u001b[0m )\n",
      "File \u001b[1;32m~\\anaconda3\\Lib\\site-packages\\ipykernel\\kernelbase.py:1245\u001b[0m, in \u001b[0;36mKernel._input_request\u001b[1;34m(self, prompt, ident, parent, password)\u001b[0m\n\u001b[0;32m   1242\u001b[0m \u001b[38;5;28;01mexcept\u001b[39;00m \u001b[38;5;167;01mKeyboardInterrupt\u001b[39;00m:\n\u001b[0;32m   1243\u001b[0m     \u001b[38;5;66;03m# re-raise KeyboardInterrupt, to truncate traceback\u001b[39;00m\n\u001b[0;32m   1244\u001b[0m     msg \u001b[38;5;241m=\u001b[39m \u001b[38;5;124m\"\u001b[39m\u001b[38;5;124mInterrupted by user\u001b[39m\u001b[38;5;124m\"\u001b[39m\n\u001b[1;32m-> 1245\u001b[0m     \u001b[38;5;28;01mraise\u001b[39;00m \u001b[38;5;167;01mKeyboardInterrupt\u001b[39;00m(msg) \u001b[38;5;28;01mfrom\u001b[39;00m \u001b[38;5;28;01mNone\u001b[39;00m\n\u001b[0;32m   1246\u001b[0m \u001b[38;5;28;01mexcept\u001b[39;00m \u001b[38;5;167;01mException\u001b[39;00m:\n\u001b[0;32m   1247\u001b[0m     \u001b[38;5;28mself\u001b[39m\u001b[38;5;241m.\u001b[39mlog\u001b[38;5;241m.\u001b[39mwarning(\u001b[38;5;124m\"\u001b[39m\u001b[38;5;124mInvalid Message:\u001b[39m\u001b[38;5;124m\"\u001b[39m, exc_info\u001b[38;5;241m=\u001b[39m\u001b[38;5;28;01mTrue\u001b[39;00m)\n",
      "\u001b[1;31mKeyboardInterrupt\u001b[0m: Interrupted by user"
     ]
    }
   ],
   "source": [
    "from keras.models import load_model\n",
    "loaded_model = load_model('chatbot.h5')\n",
    "def preprocess_input_sentence(sentence, tokenizer, max_sequence_length):\n",
    "    # Tokenize input sentence\n",
    "    input_sequence = tokenizer.texts_to_sequences([sentence])\n",
    "    # Pad sequences\n",
    "    padded_sequence = pad_sequences(input_sequence, maxlen=max_sequence_length, padding='post')\n",
    "    return padded_sequence\n",
    "\n",
    "# Function to get response\n",
    "def get_response(sentence, loaded_model, tokenizer, max_sequence_length, intents):\n",
    "    # Preprocess input sentence\n",
    "    preprocessed_input = preprocess_input_sentence(sentence, tokenizer, max_sequence_length)\n",
    "    # Predict label\n",
    "    predicted_label = loaded_model.predict(preprocessed_input).argmax(axis=-1)\n",
    "    # Convert label to tag\n",
    "    predicted_tag = label_encoder.inverse_transform(predicted_label)\n",
    "    \n",
    "    # Iterate through the intents to find the matching tag\n",
    "    for intent in intents[\"intents\"]:\n",
    "        if intent[\"tag\"] == predicted_tag[0]:\n",
    "            # Select a random response from the list of responses\n",
    "            response = random.choice(intent[\"responses\"])\n",
    "            return response\n",
    "    \n",
    "    # If no matching intent is found, return a default message\n",
    "    return \"I'm sorry, I didn't understand that.\"\n",
    "\n",
    "\n",
    "print(\"Chatbot: Hello! How can I assist you today? (Type 'exit' to end)\")\n",
    "while True:\n",
    "    # Get user input\n",
    "    sentence = input(\"You: \")\n",
    "    # Check if the user wants to exit\n",
    "    if sentence.lower() == 'exit':\n",
    "        print(\"Chatbot: Goodbye! Have a great day!\")\n",
    "        break\n",
    "    # Get response from chatbot\n",
    "    response = get_response(sentence, loaded_model, tokenizer, max_sequence_length, intents)\n",
    "    print(\"Chatbot:\", response)"
   ]
  }
 ],
 "metadata": {
  "kernelspec": {
   "display_name": "Python 3 (ipykernel)",
   "language": "python",
   "name": "python3"
  },
  "language_info": {
   "codemirror_mode": {
    "name": "ipython",
    "version": 3
   },
   "file_extension": ".py",
   "mimetype": "text/x-python",
   "name": "python",
   "nbconvert_exporter": "python",
   "pygments_lexer": "ipython3",
   "version": "3.12.1"
  },
  "toc": {
   "base_numbering": 1,
   "nav_menu": {},
   "number_sections": true,
   "sideBar": true,
   "skip_h1_title": false,
   "title_cell": "Table of Contents",
   "title_sidebar": "Contents",
   "toc_cell": false,
   "toc_position": {},
   "toc_section_display": true,
   "toc_window_display": false
  },
  "varInspector": {
   "cols": {
    "lenName": 16,
    "lenType": 16,
    "lenVar": 40
   },
   "kernels_config": {
    "python": {
     "delete_cmd_postfix": "",
     "delete_cmd_prefix": "del ",
     "library": "var_list.py",
     "varRefreshCmd": "print(var_dic_list())"
    },
    "r": {
     "delete_cmd_postfix": ") ",
     "delete_cmd_prefix": "rm(",
     "library": "var_list.r",
     "varRefreshCmd": "cat(var_dic_list()) "
    }
   },
   "types_to_exclude": [
    "module",
    "function",
    "builtin_function_or_method",
    "instance",
    "_Feature"
   ],
   "window_display": false
  }
 },
 "nbformat": 4,
 "nbformat_minor": 5
}
